{
 "cells": [
  {
   "cell_type": "code",
   "execution_count": 1,
   "metadata": {},
   "outputs": [],
   "source": [
    "from sedona.register import SedonaRegistrator\n",
    "from pyspark.sql import SparkSession\n",
    "from sedona.utils import SedonaKryoRegistrator, KryoSerializer\n",
    "\n",
    "from shapely.geometry import Point"
   ]
  },
  {
   "cell_type": "code",
   "execution_count": 2,
   "metadata": {},
   "outputs": [
    {
     "name": "stderr",
     "output_type": "stream",
     "text": [
      "Ivy Default Cache set to: /home/jovyan/.ivy2/cache\n",
      "The jars for the packages stored in: /home/jovyan/.ivy2/jars\n",
      ":: loading settings :: url = jar:file:/usr/local/spark-3.0.1-bin-hadoop3.2/jars/ivy-2.4.0.jar!/org/apache/ivy/core/settings/ivysettings.xml\n",
      "org.apache.sedona#sedona-python-adapter-3.0_2.12 added as a dependency\n",
      "org.postgresql#postgresql added as a dependency\n",
      "org.datasyslab#geotools-wrapper added as a dependency\n",
      ":: resolving dependencies :: org.apache.spark#spark-submit-parent-4ba00300-c4d9-4a46-b351-7c16eac14f81;1.0\n",
      "\tconfs: [default]\n",
      "\tfound org.apache.sedona#sedona-python-adapter-3.0_2.12;1.0.0-incubating in central\n",
      "\tfound org.locationtech.jts#jts-core;1.18.0 in central\n",
      "\tfound org.wololo#jts2geojson;0.14.3 in central\n",
      "\tfound com.fasterxml.jackson.core#jackson-databind;2.10.0 in central\n",
      "\tfound com.fasterxml.jackson.core#jackson-core;2.10.0 in central\n",
      "\tfound com.fasterxml.jackson.core#jackson-annotations;2.10.0.pr1 in central\n",
      "\tfound org.apache.sedona#sedona-core-3.0_2.12;1.0.0-incubating in central\n",
      "\tfound org.apache.sedona#sedona-sql-3.0_2.12;1.0.0-incubating in central\n",
      "\tfound org.postgresql#postgresql;42.2.23 in central\n",
      "\tfound org.checkerframework#checker-qual;3.5.0 in central\n",
      "\tfound org.datasyslab#geotools-wrapper;geotools-24.0 in central\n",
      "downloading https://repo1.maven.org/maven2/org/apache/sedona/sedona-python-adapter-3.0_2.12/1.0.0-incubating/sedona-python-adapter-3.0_2.12-1.0.0-incubating.jar ...\n",
      "\t[SUCCESSFUL ] org.apache.sedona#sedona-python-adapter-3.0_2.12;1.0.0-incubating!sedona-python-adapter-3.0_2.12.jar (327ms)\n",
      "downloading https://repo1.maven.org/maven2/org/postgresql/postgresql/42.2.23/postgresql-42.2.23.jar ...\n",
      "\t[SUCCESSFUL ] org.postgresql#postgresql;42.2.23!postgresql.jar (152ms)\n",
      "downloading https://repo1.maven.org/maven2/org/datasyslab/geotools-wrapper/geotools-24.0/geotools-wrapper-geotools-24.0.jar ...\n",
      "\t[SUCCESSFUL ] org.datasyslab#geotools-wrapper;geotools-24.0!geotools-wrapper.jar (2354ms)\n",
      "downloading https://repo1.maven.org/maven2/org/locationtech/jts/jts-core/1.18.0/jts-core-1.18.0.jar ...\n",
      "\t[SUCCESSFUL ] org.locationtech.jts#jts-core;1.18.0!jts-core.jar(bundle) (176ms)\n",
      "downloading https://repo1.maven.org/maven2/org/wololo/jts2geojson/0.14.3/jts2geojson-0.14.3.jar ...\n",
      "\t[SUCCESSFUL ] org.wololo#jts2geojson;0.14.3!jts2geojson.jar (36ms)\n",
      "downloading https://repo1.maven.org/maven2/org/apache/sedona/sedona-core-3.0_2.12/1.0.0-incubating/sedona-core-3.0_2.12-1.0.0-incubating.jar ...\n",
      "\t[SUCCESSFUL ] org.apache.sedona#sedona-core-3.0_2.12;1.0.0-incubating!sedona-core-3.0_2.12.jar (72ms)\n",
      "downloading https://repo1.maven.org/maven2/org/apache/sedona/sedona-sql-3.0_2.12/1.0.0-incubating/sedona-sql-3.0_2.12-1.0.0-incubating.jar ...\n",
      "\t[SUCCESSFUL ] org.apache.sedona#sedona-sql-3.0_2.12;1.0.0-incubating!sedona-sql-3.0_2.12.jar (80ms)\n",
      "downloading https://repo1.maven.org/maven2/com/fasterxml/jackson/core/jackson-databind/2.10.0/jackson-databind-2.10.0.jar ...\n",
      "\t[SUCCESSFUL ] com.fasterxml.jackson.core#jackson-databind;2.10.0!jackson-databind.jar(bundle) (216ms)\n",
      "downloading https://repo1.maven.org/maven2/com/fasterxml/jackson/core/jackson-annotations/2.10.0.pr1/jackson-annotations-2.10.0.pr1.jar ...\n",
      "\t[SUCCESSFUL ] com.fasterxml.jackson.core#jackson-annotations;2.10.0.pr1!jackson-annotations.jar(bundle) (46ms)\n",
      "downloading https://repo1.maven.org/maven2/com/fasterxml/jackson/core/jackson-core/2.10.0/jackson-core-2.10.0.jar ...\n",
      "\t[SUCCESSFUL ] com.fasterxml.jackson.core#jackson-core;2.10.0!jackson-core.jar(bundle) (81ms)\n",
      "downloading https://repo1.maven.org/maven2/org/checkerframework/checker-qual/3.5.0/checker-qual-3.5.0.jar ...\n",
      "\t[SUCCESSFUL ] org.checkerframework#checker-qual;3.5.0!checker-qual.jar (69ms)\n",
      ":: resolution report :: resolve 21667ms :: artifacts dl 3630ms\n",
      "\t:: modules in use:\n",
      "\tcom.fasterxml.jackson.core#jackson-annotations;2.10.0.pr1 from central in [default]\n",
      "\tcom.fasterxml.jackson.core#jackson-core;2.10.0 from central in [default]\n",
      "\tcom.fasterxml.jackson.core#jackson-databind;2.10.0 from central in [default]\n",
      "\torg.apache.sedona#sedona-core-3.0_2.12;1.0.0-incubating from central in [default]\n",
      "\torg.apache.sedona#sedona-python-adapter-3.0_2.12;1.0.0-incubating from central in [default]\n",
      "\torg.apache.sedona#sedona-sql-3.0_2.12;1.0.0-incubating from central in [default]\n",
      "\torg.checkerframework#checker-qual;3.5.0 from central in [default]\n",
      "\torg.datasyslab#geotools-wrapper;geotools-24.0 from central in [default]\n",
      "\torg.locationtech.jts#jts-core;1.18.0 from central in [default]\n",
      "\torg.postgresql#postgresql;42.2.23 from central in [default]\n",
      "\torg.wololo#jts2geojson;0.14.3 from central in [default]\n",
      "\t:: evicted modules:\n",
      "\torg.locationtech.jts#jts-core;1.16.1 by [org.locationtech.jts#jts-core;1.18.0] in [default]\n",
      "\tcom.fasterxml.jackson.core#jackson-annotations;2.10.0 by [com.fasterxml.jackson.core#jackson-annotations;2.10.0.pr1] in [default]\n",
      "\t---------------------------------------------------------------------\n",
      "\t|                  |            modules            ||   artifacts   |\n",
      "\t|       conf       | number| search|dwnlded|evicted|| number|dwnlded|\n",
      "\t---------------------------------------------------------------------\n",
      "\t|      default     |   13  |   11  |   11  |   2   ||   11  |   11  |\n",
      "\t---------------------------------------------------------------------\n",
      ":: retrieving :: org.apache.spark#spark-submit-parent-4ba00300-c4d9-4a46-b351-7c16eac14f81\n",
      "\tconfs: [default]\n",
      "\t11 artifacts copied, 0 already retrieved (25554kB/35ms)\n",
      "21/08/04 22:28:53 WARN NativeCodeLoader: Unable to load native-hadoop library for your platform... using builtin-java classes where applicable\n",
      "Using Spark's default log4j profile: org/apache/spark/log4j-defaults.properties\n",
      "Setting default log level to \"WARN\".\n",
      "To adjust logging level use sc.setLogLevel(newLevel). For SparkR, use setLogLevel(newLevel).\n"
     ]
    }
   ],
   "source": [
    "spark = SparkSession.\\\n",
    "    builder.\\\n",
    "    appName(\"apache-sedona\").\\\n",
    "    config(\"spark.serializer\", KryoSerializer.getName). \\\n",
    "    config(\"spark.kryo.registrator\", SedonaKryoRegistrator.getName). \\\n",
    "    config(\"spark.jars.packages\", \"org.apache.sedona:sedona-python-adapter-3.0_2.12:1.0.0-incubating,org.postgresql:postgresql:42.2.23,org.datasyslab:geotools-wrapper:geotools-24.0\") . \\\n",
    "    master(\"local[*]\").\\\n",
    "    getOrCreate()"
   ]
  },
  {
   "cell_type": "markdown",
   "metadata": {},
   "source": [
    "# Register sedona functions"
   ]
  },
  {
   "cell_type": "code",
   "execution_count": 3,
   "metadata": {},
   "outputs": [
    {
     "name": "stderr",
     "output_type": "stream",
     "text": [
      "                                                                                \r"
     ]
    },
    {
     "data": {
      "text/plain": [
       "True"
      ]
     },
     "execution_count": 3,
     "metadata": {},
     "output_type": "execute_result"
    }
   ],
   "source": [
    "SedonaRegistrator.registerAll(spark)"
   ]
  },
  {
   "cell_type": "markdown",
   "metadata": {},
   "source": [
    "# Creating spatial data frame"
   ]
  },
  {
   "cell_type": "code",
   "execution_count": 4,
   "metadata": {},
   "outputs": [],
   "source": [
    "data = [\n",
    "    [1, Point(21, 52)],\n",
    "    [2, Point(45, 32)]\n",
    "]"
   ]
  },
  {
   "cell_type": "code",
   "execution_count": 16,
   "metadata": {},
   "outputs": [],
   "source": [
    "spatial_df = spark.createDataFrame(data).\\\n",
    "    selectExpr(\"_1 AS id\", \"ST_AsText(_2) AS geom\")"
   ]
  },
  {
   "cell_type": "code",
   "execution_count": 17,
   "metadata": {},
   "outputs": [
    {
     "name": "stdout",
     "output_type": "stream",
     "text": [
      "+---+-------------+\n",
      "| id|         geom|\n",
      "+---+-------------+\n",
      "|  1|POINT (21 52)|\n",
      "|  2|POINT (45 32)|\n",
      "+---+-------------+\n",
      "\n"
     ]
    }
   ],
   "source": [
    "spatial_df.show()"
   ]
  },
  {
   "cell_type": "code",
   "execution_count": 18,
   "metadata": {},
   "outputs": [
    {
     "name": "stdout",
     "output_type": "stream",
     "text": [
      "root\n",
      " |-- id: long (nullable = true)\n",
      " |-- geom: string (nullable = false)\n",
      "\n"
     ]
    }
   ],
   "source": [
    "spatial_df.printSchema()"
   ]
  },
  {
   "cell_type": "markdown",
   "metadata": {},
   "source": [
    "# Writing Spatial data frame to postgis"
   ]
  },
  {
   "cell_type": "code",
   "execution_count": 19,
   "metadata": {},
   "outputs": [],
   "source": [
    "spatial_df.write .\\\n",
    "  format(\"jdbc\") .\\\n",
    "  option(\"url\", \"jdbc:postgresql://postgis:5432/sedona\") .\\\n",
    "  option(\"dbtable\", \"spatial_points\") .\\\n",
    "  option(\"user\", \"sedona\") .\\\n",
    "  option(\"password\", \"sedona\") .\\\n",
    "  option(\"driver\", \"org.postgresql.Driver\") .\\\n",
    "  save()"
   ]
  },
  {
   "cell_type": "markdown",
   "metadata": {},
   "source": [
    "# Reading"
   ]
  },
  {
   "cell_type": "code",
   "execution_count": 24,
   "metadata": {},
   "outputs": [
    {
     "name": "stdout",
     "output_type": "stream",
     "text": [
      "+---+-------------+\n",
      "| id|         geom|\n",
      "+---+-------------+\n",
      "|  1|POINT (21 52)|\n",
      "|  2|POINT (45 32)|\n",
      "+---+-------------+\n",
      "\n"
     ]
    }
   ],
   "source": [
    "spark.read .\\\n",
    "  format(\"jdbc\") .\\\n",
    "  option(\"url\", \"jdbc:postgresql://postgis:5432/sedona\") .\\\n",
    "  option(\"dbtable\", \"spatial_points\") .\\\n",
    "  option(\"user\", \"sedona\") .\\\n",
    "  option(\"password\", \"sedona\") .\\\n",
    "  option(\"driver\", \"org.postgresql.Driver\") .\\\n",
    "  load().\\\n",
    "  show()"
   ]
  },
  {
   "cell_type": "code",
   "execution_count": null,
   "metadata": {},
   "outputs": [],
   "source": []
  },
  {
   "cell_type": "code",
   "execution_count": null,
   "metadata": {},
   "outputs": [],
   "source": []
  },
  {
   "cell_type": "code",
   "execution_count": null,
   "metadata": {},
   "outputs": [],
   "source": []
  }
 ],
 "metadata": {
  "kernelspec": {
   "display_name": "Python 3 (ipykernel)",
   "language": "python",
   "name": "python3"
  },
  "language_info": {
   "codemirror_mode": {
    "name": "ipython",
    "version": 3
   },
   "file_extension": ".py",
   "mimetype": "text/x-python",
   "name": "python",
   "nbconvert_exporter": "python",
   "pygments_lexer": "ipython3",
   "version": "3.9.5"
  }
 },
 "nbformat": 4,
 "nbformat_minor": 1
}
